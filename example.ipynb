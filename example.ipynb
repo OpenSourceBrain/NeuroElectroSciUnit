{
 "cells": [
  {
   "cell_type": "markdown",
   "metadata": {},
   "source": [
    "### Setup the paths to find models and run simulators"
   ]
  },
  {
   "cell_type": "code",
   "execution_count": 1,
   "metadata": {
    "collapsed": false
   },
   "outputs": [],
   "source": [
    "import sys,os\n",
    "\n",
    "sys.path.append('/Users/rgerkin/Dropbox/dev/neurotools')\n",
    "sys.path.append('/Users/rgerkin/Dropbox/dev/sciunit')\n",
    "sys.path.append('/Users/rgerkin/Dropbox/dev')\n",
    "\n",
    "os.environ['NC_HOME'] = '/Users/rgerkin/Dropbox/dev/neuroConstruct'\n",
    "os.environ['JYTHON_HOME'] = '/Users/rgerkin/jython2.7b1'\n",
    "os.environ['HOME'] = '/Users/rgerkin'\n",
    "os.environ['PWD'] = '/Users/rgerkin/Dropbox/dev/neuroConstruct'\n",
    "os.environ['PATH'] = '/usr/gnu/bin:/usr/local/bin:/bin:/usr/bin:/usr/sbin:/Applications/NEURON/nrn/x86_64/bin:.'\n",
    "os.environ['PYTHONPATH'] = '/Users/rgerkin/Dropbox/dev/neurotools:/Users/rgerkin/Dropbox/dev/sciunit:/Users/rgerkin/Dropbox/dev:/Users/rgerkin/Dropbox/dev/neuroConstruct/pythonnC'"
   ]
  },
  {
   "cell_type": "markdown",
   "metadata": {},
   "source": [
    "### Setup the plotting environment"
   ]
  },
  {
   "cell_type": "code",
   "execution_count": 2,
   "metadata": {
    "collapsed": false
   },
   "outputs": [],
   "source": [
    "%matplotlib inline\n",
    "import warnings\n",
    "warnings.filterwarnings('ignore')\n",
    "import numpy as np\n",
    "import matplotlib.pyplot as plt\n",
    "import matplotlib as mpl\n",
    "if mpl.rcParams['text.usetex']:\n",
    "    raise RuntimeError(\"this mode is not compatible with text.usetex = True\")\n",
    "plt_txt_size = 20\n",
    "plt.rcParams.update({'font.family' : 'serif',\n",
    "                     'font.size' : plt_txt_size,\n",
    "                     'axes.linewidth' : 0.5,\n",
    "                     'legend.fontsize' : plt_txt_size,\n",
    "                     'legend.frameon' : False,\n",
    "                     'legend.numpoints' : 1,\n",
    "                     'figure.figsize': (12, 6)})"
   ]
  },
  {
   "cell_type": "markdown",
   "metadata": {},
   "source": [
    "###Import testing frameworks"
   ]
  },
  {
   "cell_type": "code",
   "execution_count": 3,
   "metadata": {
    "collapsed": false
   },
   "outputs": [],
   "source": [
    "# Installed packages.  \n",
    "import sciunit\n",
    "from neuronunit import neuroelectro,tests,capabilities\n",
    "import neuronunit.neuroconstruct.models as nc_models\n",
    "from pythonnC.utils.putils import OSB_MODELS"
   ]
  },
  {
   "cell_type": "markdown",
   "metadata": {},
   "source": [
    "###Select a cerebellar granule cell"
   ]
  },
  {
   "cell_type": "code",
   "execution_count": 4,
   "metadata": {
    "collapsed": true
   },
   "outputs": [],
   "source": [
    "brain_area = 'cerebellum'\n",
    "neuron_type = 'cerebellar_granule_cell'\n",
    "path = os.path.join(OSB_MODELS,brain_area,neuron_type)\n",
    "neurolex_id = 'nifext_128' # Cerebellar Granule Cell"
   ]
  },
  {
   "cell_type": "markdown",
   "metadata": {},
   "source": [
    "###Instantiate a resting potential test for this cell type using neuroelectro.org data"
   ]
  },
  {
   "cell_type": "code",
   "execution_count": 5,
   "metadata": {
    "collapsed": false
   },
   "outputs": [
    {
     "name": "stdout",
     "output_type": "stream",
     "text": [
      "Getting data values from neuroelectro.org\n",
      "http://www.neuroelectro.org/api/1/nes/?nlex=nifext_128&e__name=Resting+Membrane+Potential\n"
     ]
    }
   ],
   "source": [
    "# Specify reference data for this test.  \n",
    "reference_data = neuroelectro.NeuroElectroSummary(\n",
    "    neuron = {'nlex_id':neurolex_id}, # Neuron type.  \n",
    "    ephysprop = {'name':'Resting Membrane Potential'}) # Electrophysiological property name. \n",
    "# Get and verify summary data for the combination above from neuroelectro.org. \n",
    "if reference_data.get_values() is None:\n",
    "    raise ValueError(\"Unable to get the reference data from NeuroElectro.org.\")\n",
    "\n",
    "vm_test = tests.RestingPotentialTest(\n",
    "                observation = {'mean':reference_data.mean,\n",
    "                               'std':reference_data.std},\n",
    "                name = 'Resting Potential')"
   ]
  },
  {
   "cell_type": "markdown",
   "metadata": {},
   "source": [
    "###Instantiate an action potential width test for this cell type using neuroelectro.org data"
   ]
  },
  {
   "cell_type": "code",
   "execution_count": 6,
   "metadata": {
    "collapsed": false
   },
   "outputs": [
    {
     "name": "stdout",
     "output_type": "stream",
     "text": [
      "Getting data values from neuroelectro.org\n",
      "http://www.neuroelectro.org/api/1/nes/?nlex=nifext_128&e__name=Spike+Half-Width\n"
     ]
    }
   ],
   "source": [
    "# Specify reference data for this test.  \n",
    "reference_data = neuroelectro.NeuroElectroSummary(\n",
    "    neuron = {'nlex_id':neurolex_id}, # Neuron type.  \n",
    "    ephysprop = {'name':'Spike Half-Width'}) # Electrophysiological property name. \n",
    "# Get and verify summary data for the combination above from neuroelectro.org. \n",
    "if reference_data.get_values() is None:\n",
    "    raise ValueError(\"Unable to get the reference data from NeuroElectro.org.\")\n",
    "\n",
    "spikewidth_test = tests.InjectedCurrentSpikeWidthTest(\n",
    "                observation = {'mean':reference_data.mean,\n",
    "                               'std':reference_data.std},\n",
    "                name = 'Spike Width',\n",
    "                params={'injected_current':{'ampl':0.0053}}) # 0.0053"
   ]
  },
  {
   "cell_type": "markdown",
   "metadata": {},
   "source": [
    "###Create a test suite from the tests above"
   ]
  },
  {
   "cell_type": "code",
   "execution_count": 7,
   "metadata": {
    "collapsed": true
   },
   "outputs": [],
   "source": [
    "suite = sciunit.TestSuite('Tests',(spikewidth_test,vm_test))"
   ]
  },
  {
   "cell_type": "markdown",
   "metadata": {},
   "source": [
    "###Select granule cell models from opensourcebrain.org to take these tests"
   ]
  },
  {
   "cell_type": "code",
   "execution_count": 8,
   "metadata": {
    "collapsed": false
   },
   "outputs": [
    {
     "name": "stdout",
     "output_type": "stream",
     "text": [
      "cereb_grc_mc\n",
      "Instantiating a neuroConstruct model from /Users/rgerkin/Dropbox/dev/neuroConstruct/osb/cerebellum/cerebellar_granule_cell/cereb_grc_mc/neuroConstruct.\n",
      "GranCellRothmanIf\n",
      "GranCellSolinasEtAl10\n",
      "Instantiating a neuroConstruct model from /Users/rgerkin/Dropbox/dev/neuroConstruct/osb/cerebellum/cerebellar_granule_cell/GranCellSolinasEtAl10/neuroConstruct.\n",
      "GranuleCell\n",
      "Instantiating a neuroConstruct model from /Users/rgerkin/Dropbox/dev/neuroConstruct/osb/cerebellum/cerebellar_granule_cell/GranuleCell/neuroConstruct.\n",
      "GranuleCellVSCS\n",
      "Instantiating a neuroConstruct model from /Users/rgerkin/Dropbox/dev/neuroConstruct/osb/cerebellum/cerebellar_granule_cell/GranuleCellVSCS/neuroConstruct.\n"
     ]
    }
   ],
   "source": [
    "if not os.path.isdir(path):\n",
    "    raise IOError('No such path: %s' % path)\n",
    "model_names = os.listdir(path)\n",
    "models = []\n",
    "bad_models = ['GranCellRothmanIf']\n",
    "good_models = ['GranuleCell','cereb_grc_mc']\n",
    "for model_name in model_names:\n",
    "    print(model_name)\n",
    "    if model_name in bad_models:\n",
    "        continue\n",
    "    model_info = (brain_area,neuron_type,model_name)\n",
    "    model = nc_models.OSBModel(*model_info)\n",
    "    if model_name in good_models: # Currently the only one that actually produces reasonable spikes.  \n",
    "        models.append(model)"
   ]
  },
  {
   "cell_type": "markdown",
   "metadata": {},
   "source": [
    "###Execute the test suite"
   ]
  },
  {
   "cell_type": "code",
   "execution_count": 9,
   "metadata": {
    "collapsed": false
   },
   "outputs": [
    {
     "name": "stdout",
     "output_type": "stream",
     "text": [
      "Waiting for socket to be open on port 8889...\n",
      "Waiting for socket to be open on port 8889...\n",
      "Running simulation...\n",
      "Runtime methods are {}\n",
      "Receiving sim dir\n",
      "Received sim dir\n",
      "Getting membrane potential from /Users/rgerkin/Dropbox/dev/neuroConstruct/osb/cerebellum/cerebellar_granule_cell/cereb_grc_mc/neuroConstruct/simulations/DefaultSimulationConfiguration__N/CG_KA_0\n",
      "There are 0 spikes\n",
      "Spike widths are []\n",
      "Spike Width: Observation = {'mean': 0.93, 'std': 0.216487105081727}, Prediction = {'mean': nan, 'std': nan}\n",
      "Terminating subprocess used to create previous socket.\n",
      "Waiting for socket to be open on port 8889...\n",
      "Waiting for socket to be open on port 8889...\n",
      "Running simulation...\n",
      "Runtime methods are {}\n",
      "Receiving sim dir\n",
      "Received sim dir\n",
      "Getting membrane potential from /Users/rgerkin/Dropbox/dev/neuroConstruct/osb/cerebellum/cerebellar_granule_cell/GranuleCell/neuroConstruct/simulations/DefaultSimulationConfiguration__N/Gran_0\n",
      "There are 1 spikes\n",
      "Spikes has duration 500 samples, and sample 250 is the high point\n",
      "-44.3618297483 -16.4727948741 11.41624\n",
      "Spike widths are [ 0.16]\n",
      "Spike Width: Observation = {'mean': 0.93, 'std': 0.216487105081727}, Prediction = {'mean': 0.16, 'std': 0.0}\n",
      "Terminating subprocess used to create previous socket.\n",
      "Waiting for socket to be open on port 8889...\n",
      "Waiting for socket to be open on port 8889...\n",
      "Getting membrane potential from /Users/rgerkin/Dropbox/dev/neuroConstruct/osb/cerebellum/cerebellar_granule_cell/cereb_grc_mc/neuroConstruct/simulations/DefaultSimulationConfiguration__N/CG_KA_0\n",
      "Terminating subprocess used to create previous socket.\n",
      "Waiting for socket to be open on port 8889...\n",
      "Waiting for socket to be open on port 8889...\n",
      "Getting membrane potential from /Users/rgerkin/Dropbox/dev/neuroConstruct/osb/cerebellum/cerebellar_granule_cell/GranuleCell/neuroConstruct/simulations/DefaultSimulationConfiguration__N/Gran_0\n"
     ]
    }
   ],
   "source": [
    "# (1) Check capabilities,\n",
    "# (2) take the test, \n",
    "# (3) generate a score and validate it,\n",
    "# (4) bind the score to model/test combination. \n",
    "\n",
    "score_matrix = suite.judge(models,stop_on_error=True)    "
   ]
  },
  {
   "cell_type": "markdown",
   "metadata": {},
   "source": [
    "###View the test results"
   ]
  },
  {
   "cell_type": "code",
   "execution_count": 10,
   "metadata": {
    "collapsed": false
   },
   "outputs": [
    {
     "data": {
      "text/html": [
       "\n",
       "  \t<table>\n",
       "  \t  <thead><tr><th></th><th>Spike Width (InjectedCurrentSpikeWidthTest)</th>\r",
       "<th>Resting Potential (RestingPotentialTest)</th></tr></thead>\n",
       "  \t  <tbody><tr><td>cereb_grc_mc (OSBModel)</td><td>Z = nan</td>\r",
       "<td>Z = 4.92</td></tr>\r",
       "<tr><td>GranuleCell (OSBModel)</td><td>Z = -3.56</td>\r",
       "<td>Z = 0.88</td></tr></tbody>\n",
       "  \t</table>"
      ],
      "text/plain": [
       "<IPython.core.display.HTML object>"
      ]
     },
     "execution_count": 10,
     "metadata": {},
     "output_type": "execute_result"
    }
   ],
   "source": [
    "score_matrix.view()"
   ]
  },
  {
   "cell_type": "markdown",
   "metadata": {},
   "source": [
    "###Plot the simulation data from one of the tests"
   ]
  },
  {
   "cell_type": "code",
   "execution_count": 11,
   "metadata": {
    "collapsed": false
   },
   "outputs": [
    {
     "data": {
      "image/png": "[encoded data removed]",
      "text/plain": [
       "<matplotlib.figure.Figure at 0x108da8e80>"
      ]
     },
     "metadata": {},
     "output_type": "display_data"
    },
    {
     "data": {
      "image/png": "[encoded data removed]",
      "text/plain": [
       "<matplotlib.figure.Figure at 0x108b379b0>"
      ]
     },
     "metadata": {},
     "output_type": "display_data"
    }
   ],
   "source": [
    "prefix = '/Users/rgerkin/dev/neuroConstruct/osb/cerebellum/cerebellar_granule_cell'\n",
    "suffix = 'neuroConstruct/simulations/DefaultSimulationConfiguration__N'\n",
    "for model_name,group in [('GranuleCell','Gran_0'),\n",
    "                         ('GranCellSolinasEtAl10','GranCell_CML_0'),\n",
    "                         ('GranuleCellVSCS','SampleCellGroup_0'),\n",
    "                         ('cereb_grc_mc','CG_KA_0')]:\n",
    "    if model_name not in good_models:\n",
    "        continue\n",
    "    plt.figure()\n",
    "    ax1 = plt.subplot2grid((1,3), (0,0), colspan=2)\n",
    "    ax2 = plt.subplot2grid((1,3), (0,2), colspan=1)\n",
    "    path = os.path.join(prefix,model_name,suffix)\n",
    "    t = np.loadtxt(os.path.join(path,'time.dat'))\n",
    "    vm = np.loadtxt(os.path.join(path,'%s.dat' % group))\n",
    "    ax1.plot(t,vm,label=model_name,linewidth=3)\n",
    "    ax2.plot(t,vm,label=model_name,linewidth=3)\n",
    "    ax1.set_xlabel(\"Time (ms)\")\n",
    "    ax1.set_ylabel(\"Membrane Potential (mV)\")\n",
    "    ax1.set_xlim(50,400)\n",
    "    ax2.set_xlim(283,284.7)\n",
    "    ax1.set_ylim(-75,30)\n",
    "    ax2.set_ylim(-75,30)\n",
    "    ax2.set_xticks([283.5,284.5])\n",
    "    ax2.set_yticks([])\n",
    "    #plt.legend()\n",
    "    plt.savefig('sdsf.pdf',format='pdf')"
   ]
  },
  {
   "cell_type": "code",
   "execution_count": null,
   "metadata": {
    "collapsed": true
   },
   "outputs": [],
   "source": []
  }
 ],
 "metadata": {
  "kernelspec": {
   "display_name": "Python 3",
   "language": "python",
   "name": "python3"
  },
  "language_info": {
   "codemirror_mode": {
    "name": "ipython",
    "version": 3
   },
   "file_extension": ".py",
   "mimetype": "text/x-python",
   "name": "python",
   "nbconvert_exporter": "python",
   "pygments_lexer": "ipython3",
   "version": "3.4.1"
  }
 },
 "nbformat": 4,
 "nbformat_minor": 0
}
